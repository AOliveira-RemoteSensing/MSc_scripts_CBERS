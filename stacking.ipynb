{
  "nbformat": 4,
  "nbformat_minor": 0,
  "metadata": {
    "colab": {
      "provenance": []
    },
    "kernelspec": {
      "name": "python3",
      "display_name": "Python 3"
    },
    "language_info": {
      "name": "python"
    }
  },
  "cells": [
    {
      "cell_type": "code",
      "execution_count": null,
      "metadata": {
        "id": "W_UsHRGApTzD"
      },
      "outputs": [],
      "source": [
        "import rasterio as rio\n",
        "import os"
      ]
    },
    {
      "cell_type": "code",
      "source": [
        "def get_subfolders(folder_path):\n",
        "    return [os.path.join(folder_path, folder_name) for folder_name in os.listdir(folder_path) if os.path.isdir(os.path.join(folder_path, folder_name))]\n",
        "\n",
        "def read_band(file_path, band_number):\n",
        "    return rio.open(file_path, dtype='float32').read(band_number, masked=False)\n",
        "\n",
        "def merge_bands(bands):\n",
        "    return [bands[2], bands[1], bands[0], bands[3]]\n",
        "\n",
        "def save_stack(out_img, out_meta, bands):\n",
        "    with rio.open(out_img, 'w', **out_meta) as dest:\n",
        "        for band_nr, src in enumerate(bands, start=1):\n",
        "            dest.write(src, band_nr)\n",
        "\n",
        "def process_subfolder(folder_path, output_folder):\n",
        "    file_paths = [os.path.join(folder_path, file_name) for file_name in os.listdir(folder_path)]\n",
        "\n",
        "    bands = [read_band(file_paths[i], 1) for i in range(4)]\n",
        "\n",
        "    file_name = os.path.basename(folder_path)\n",
        "    complete_path_to_save = os.path.join(output_folder, file_name + '.tif')\n",
        "\n",
        "    out_meta = rio.open(file_paths[2], dtype='float32').meta.copy()\n",
        "    out_meta.update({\"count\": 4, \"nodata\": -9999})\n",
        "\n",
        "    save_stack(complete_path_to_save, out_meta, merge_bands(bands))\n",
        "\n",
        "if __name__ == \"__main__\":\n",
        "    folder_path = 'path_to_folder_with_subfolders'  # Specify the path to the folder with subfolders\n",
        "    output_folder = 'path_to_output_folder'  # Specify the path to the output folder\n",
        "\n",
        "    subfolders = get_subfolders(folder_path)\n",
        "\n",
        "    for subfolder in subfolders:\n",
        "        process_subfolder(subfolder, output_folder)"
      ],
      "metadata": {
        "id": "_RqaEecApbuU"
      },
      "execution_count": null,
      "outputs": []
    }
  ]
}
