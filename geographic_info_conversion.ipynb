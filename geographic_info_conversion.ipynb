{
  "nbformat": 4,
  "nbformat_minor": 0,
  "metadata": {
    "colab": {
      "provenance": []
    },
    "kernelspec": {
      "name": "python3",
      "display_name": "Python 3"
    },
    "language_info": {
      "name": "python"
    }
  },
  "cells": [
    {
      "cell_type": "code",
      "execution_count": null,
      "metadata": {
        "id": "YvTqKGzBwTWH"
      },
      "outputs": [],
      "source": [
        "import os\n",
        "import rasterio\n",
        "from rasterio.warp import calculate_default_transform, reproject, Resampling"
      ]
    },
    {
      "cell_type": "code",
      "source": [
        "def reproject_images(input_folder, output_folder, target_crs='EPSG:4326'):\n",
        "    for filename in os.listdir(input_folder):\n",
        "        input_path = os.path.join(input_folder, filename)\n",
        "        output_path = os.path.join(output_folder, f'{os.path.splitext(filename)[0]}.tif')\n",
        "\n",
        "        with rasterio.open(input_path) as src:\n",
        "            transform, width, height = calculate_default_transform(src.crs, target_crs, src.width, src.height, *src.bounds)\n",
        "\n",
        "            dst_meta = src.meta.copy()\n",
        "            dst_meta.update({'crs': target_crs, 'transform': transform, 'width': width, 'height': height})\n",
        "\n",
        "            with rasterio.open(output_path, 'w', **dst_meta) as dst:\n",
        "                for i in range(1, src.count + 1):\n",
        "                    band = src.read(i)\n",
        "                    reproject(\n",
        "                        source=band,\n",
        "                        destination=rasterio.band(dst, i),\n",
        "                        src_transform=src.transform,\n",
        "                        src_crs=src.crs,\n",
        "                        dst_transform=transform,\n",
        "                        dst_crs=target_crs,\n",
        "                        resampling=Resampling.nearest\n",
        "                    )\n",
        "\n",
        "# Example Usage:\n",
        "input_folder_path = '/path/to/input/folder'\n",
        "output_folder_path = '/path/to/output/folder'\n",
        "\n",
        "reproject_images(input_folder_path, output_folder_path)"
      ],
      "metadata": {
        "id": "uBdjstmDwajR"
      },
      "execution_count": null,
      "outputs": []
    }
  ]
}
