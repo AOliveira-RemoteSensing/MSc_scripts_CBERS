{
  "nbformat": 4,
  "nbformat_minor": 0,
  "metadata": {
    "colab": {
      "provenance": []
    },
    "kernelspec": {
      "name": "python3",
      "display_name": "Python 3"
    },
    "language_info": {
      "name": "python"
    }
  },
  "cells": [
    {
      "cell_type": "code",
      "execution_count": null,
      "metadata": {
        "id": "7A01F2HRiuQi"
      },
      "outputs": [],
      "source": [
        "!pip install cbers4asat  # Install CBERS-4A satellite data package\n",
        "!pip install datetime   # Install datetime module for date and time operations\n",
        "from cbers4asat import Cbers4aAPI  # Import Cbers4aAPI from cbers4asat package\n",
        "from datetime import date  # Import date class from datetime module"
      ]
    },
    {
      "cell_type": "code",
      "source": [
        "# Initialize the API with login credentials\n",
        "api = YourAPI('your_login@email.com')"
      ],
      "metadata": {
        "id": "OSRhnN6ziynK"
      },
      "execution_count": null,
      "outputs": []
    },
    {
      "cell_type": "code",
      "source": [
        "# Define the time range for the query\n",
        "start_date = date(2020, 01, 01) # Input the start date (yyyy, mm, dd)\n",
        "end_date = date(2020, 12, 31) # Input the end date (yyyy, mm, dd)\n",
        "\n",
        "# Execute the query with specified parameters\n",
        "results = api.query(location=path_row,\n",
        "                    initial_date=start_date,\n",
        "                    end_date=end_date,\n",
        "                    cloud_threshold=100,  # Adjust for low cloud coverage if needed\n",
        "                    limit=100,  # Maximum number of scenes per dataset\n",
        "                    #collections=['CBERS4_AWFI_L4_DN']) # set to the AWFI sensor on CBERS-4\n",
        "                    #collections=['CBERS4A_WFI_L4_DN']) # set to the WFI sensor on CBERS-4A\n",
        "                    #collections=['AMAZONIA1_WFI_L4_DN']) # set to the WFI sensor on aboard AMZ-1\n",
        "\n",
        "print(results)  # Display the query results"
      ],
      "metadata": {
        "id": "BV3VknQIi5Qr"
      },
      "execution_count": null,
      "outputs": []
    },
    {
      "cell_type": "code",
      "source": [
        "# Download the previously queried images\n",
        "api.download(products=results,\n",
        "             bands=['red', 'green', 'blue', 'nir'],  # Set the bands for downloading\n",
        "             threads=72,  # Maximum number of simultaneous downloads\n",
        "             outdir=r'C:\\\\Users\\\\users\\\\user\\\\final_folder\\\\',  # Set the output directory\n",
        "             with_folder=True)  # True: organize bands into subfolders; False: download bands directly to the output directory"
      ],
      "metadata": {
        "id": "TCG1--dri0ec"
      },
      "execution_count": null,
      "outputs": []
    }
  ]
}