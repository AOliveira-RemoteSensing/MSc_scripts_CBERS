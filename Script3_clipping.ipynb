{
  "nbformat": 4,
  "nbformat_minor": 0,
  "metadata": {
    "colab": {
      "provenance": []
    },
    "kernelspec": {
      "name": "python3",
      "display_name": "Python 3"
    },
    "language_info": {
      "name": "python"
    }
  },
  "cells": [
    {
      "cell_type": "code",
      "execution_count": null,
      "metadata": {
        "id": "m1uvP0l9vWnK"
      },
      "outputs": [],
      "source": [
        "import os\n",
        "import rasterio as rio\n",
        "from rasterio.mask import mask\n",
        "from shapely.geometry import box"
      ]
    },
    {
      "cell_type": "code",
      "source": [
        "def list_files(folder_path):\n",
        "    return [filename for filename in os.listdir(folder_path)]\n",
        "\n",
        "def clip_raster(input_raster, output_path, bbox):\n",
        "    with rio.open(input_raster) as src:\n",
        "        out_image, out_transform = mask(src, [bbox], crop=True)\n",
        "        out_image[out_image < 0] = -9999\n",
        "        out_meta = src.meta.copy()\n",
        "        out_meta.update(driver=\"GTiff\", height=out_image.shape[1], width=out_image.shape[2],\n",
        "                         transform=out_transform, crs=src.crs)\n",
        "\n",
        "    with rio.open(output_path, \"w\", **out_meta) as dest:\n",
        "        dest.write(out_image)\n",
        "\n",
        "def process_rasters(folder_path, output_path, bbox):\n",
        "    for filename in list_files(folder_path):\n",
        "        input_raster = os.path.join(folder_path, filename)\n",
        "        output_raster = os.path.join(output_path, filename)\n",
        "        clip_raster(input_raster, output_raster, bbox)"
      ],
      "metadata": {
        "id": "EGBiJrguvbFS"
      },
      "execution_count": null,
      "outputs": []
    },
    {
      "cell_type": "code",
      "source": [
        "# Set input and output paths\n",
        "input_folder = r'C:\\Path\\To\\Input\\Rasters'\n",
        "output_folder = r'C:\\Path\\To\\Output\\Rasters'\n",
        "\n",
        "# Specify bounding box coordinates in EPSG 32722 or EPSG 32723\n",
        "bounding_box = box(-00.000000, -00.000000, -00.000000, -00.000000)\n",
        "\n",
        "# Run the main process\n",
        "process_rasters(input_folder, output_folder, bounding_box)"
      ],
      "metadata": {
        "id": "KuwWmjv3vboO"
      },
      "execution_count": null,
      "outputs": []
    }
  ]
}